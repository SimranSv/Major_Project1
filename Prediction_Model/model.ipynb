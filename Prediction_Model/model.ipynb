{
 "cells": [
  {
   "cell_type": "code",
   "execution_count": 363,
   "metadata": {},
   "outputs": [],
   "source": [
    "import pandas as pd\n",
    "import numpy as np\n",
    "import matplotlib.pyplot as plt\n",
    "import seaborn as sns\n",
    "from sklearn.ensemble import ExtraTreesRegressor\n",
    "from sklearn.preprocessing import StandardScaler\n",
    "from sklearn.model_selection import train_test_split\n",
    "from sklearn.ensemble import RandomForestRegressor"
   ]
  },
  {
   "cell_type": "code",
   "execution_count": 364,
   "metadata": {},
   "outputs": [
    {
     "data": {
      "text/html": [
       "<div>\n",
       "<style scoped>\n",
       "    .dataframe tbody tr th:only-of-type {\n",
       "        vertical-align: middle;\n",
       "    }\n",
       "\n",
       "    .dataframe tbody tr th {\n",
       "        vertical-align: top;\n",
       "    }\n",
       "\n",
       "    .dataframe thead th {\n",
       "        text-align: right;\n",
       "    }\n",
       "</style>\n",
       "<table border=\"1\" class=\"dataframe\">\n",
       "  <thead>\n",
       "    <tr style=\"text-align: right;\">\n",
       "      <th></th>\n",
       "      <th>Unnamed: 0</th>\n",
       "      <th>img_link</th>\n",
       "      <th>name</th>\n",
       "      <th>price(in Rs.)</th>\n",
       "      <th>processor</th>\n",
       "      <th>ram</th>\n",
       "      <th>os</th>\n",
       "      <th>storage</th>\n",
       "      <th>display(in inch)</th>\n",
       "      <th>rating</th>\n",
       "      <th>no_of_ratings</th>\n",
       "      <th>no_of_reviews</th>\n",
       "    </tr>\n",
       "  </thead>\n",
       "  <tbody>\n",
       "    <tr>\n",
       "      <th>0</th>\n",
       "      <td>0</td>\n",
       "      <td>https://rukminim1.flixcart.com/image/312/312/x...</td>\n",
       "      <td>Lenovo Intel Core i5 11th Gen</td>\n",
       "      <td>62990</td>\n",
       "      <td>Intel Core i5 Processor (11th Gen)</td>\n",
       "      <td>16</td>\n",
       "      <td>Windows 11 Operating System</td>\n",
       "      <td>512</td>\n",
       "      <td>15.6</td>\n",
       "      <td>4.5</td>\n",
       "      <td>14.0</td>\n",
       "      <td>1.0</td>\n",
       "    </tr>\n",
       "    <tr>\n",
       "      <th>1</th>\n",
       "      <td>1</td>\n",
       "      <td>https://rukminim1.flixcart.com/image/312/312/x...</td>\n",
       "      <td>Lenovo V15 G2 Core i3 11th Gen</td>\n",
       "      <td>37500</td>\n",
       "      <td>Intel Core i3 Processor (11th Gen)</td>\n",
       "      <td>8</td>\n",
       "      <td>64 bit Windows 11 Operating System</td>\n",
       "      <td>256</td>\n",
       "      <td>15.6</td>\n",
       "      <td>4.4</td>\n",
       "      <td>53.0</td>\n",
       "      <td>3.0</td>\n",
       "    </tr>\n",
       "    <tr>\n",
       "      <th>2</th>\n",
       "      <td>2</td>\n",
       "      <td>https://rukminim1.flixcart.com/image/312/312/l...</td>\n",
       "      <td>ASUS TUF Gaming F15 Core i5 10th Gen</td>\n",
       "      <td>49990</td>\n",
       "      <td>Intel Core i5 Processor (10th Gen)</td>\n",
       "      <td>8</td>\n",
       "      <td>Windows 11 Operating System</td>\n",
       "      <td>512</td>\n",
       "      <td>15.6</td>\n",
       "      <td>4.4</td>\n",
       "      <td>4733.0</td>\n",
       "      <td>463.0</td>\n",
       "    </tr>\n",
       "    <tr>\n",
       "      <th>3</th>\n",
       "      <td>3</td>\n",
       "      <td>https://rukminim1.flixcart.com/image/312/312/x...</td>\n",
       "      <td>ASUS VivoBook 15 (2022) Core i3 10th Gen</td>\n",
       "      <td>33990</td>\n",
       "      <td>Intel Core i3 Processor (10th Gen)</td>\n",
       "      <td>8</td>\n",
       "      <td>64 bit Windows 11 Operating System</td>\n",
       "      <td>512</td>\n",
       "      <td>15.6</td>\n",
       "      <td>4.3</td>\n",
       "      <td>10406.0</td>\n",
       "      <td>1040.0</td>\n",
       "    </tr>\n",
       "    <tr>\n",
       "      <th>4</th>\n",
       "      <td>4</td>\n",
       "      <td>https://rukminim1.flixcart.com/image/312/312/x...</td>\n",
       "      <td>Lenovo Athlon Dual Core</td>\n",
       "      <td>18990</td>\n",
       "      <td>AMD Athlon Dual Core Processor</td>\n",
       "      <td>4</td>\n",
       "      <td>DOS Operating System</td>\n",
       "      <td>256</td>\n",
       "      <td>14.0</td>\n",
       "      <td>3.8</td>\n",
       "      <td>18.0</td>\n",
       "      <td>3.0</td>\n",
       "    </tr>\n",
       "  </tbody>\n",
       "</table>\n",
       "</div>"
      ],
      "text/plain": [
       "   Unnamed: 0                                           img_link  \\\n",
       "0           0  https://rukminim1.flixcart.com/image/312/312/x...   \n",
       "1           1  https://rukminim1.flixcart.com/image/312/312/x...   \n",
       "2           2  https://rukminim1.flixcart.com/image/312/312/l...   \n",
       "3           3  https://rukminim1.flixcart.com/image/312/312/x...   \n",
       "4           4  https://rukminim1.flixcart.com/image/312/312/x...   \n",
       "\n",
       "                                       name  price(in Rs.)  \\\n",
       "0             Lenovo Intel Core i5 11th Gen          62990   \n",
       "1            Lenovo V15 G2 Core i3 11th Gen          37500   \n",
       "2      ASUS TUF Gaming F15 Core i5 10th Gen          49990   \n",
       "3  ASUS VivoBook 15 (2022) Core i3 10th Gen          33990   \n",
       "4                   Lenovo Athlon Dual Core          18990   \n",
       "\n",
       "                            processor  ram  \\\n",
       "0  Intel Core i5 Processor (11th Gen)   16   \n",
       "1  Intel Core i3 Processor (11th Gen)    8   \n",
       "2  Intel Core i5 Processor (10th Gen)    8   \n",
       "3  Intel Core i3 Processor (10th Gen)    8   \n",
       "4      AMD Athlon Dual Core Processor    4   \n",
       "\n",
       "                                   os  storage  display(in inch)  rating  \\\n",
       "0         Windows 11 Operating System      512              15.6     4.5   \n",
       "1  64 bit Windows 11 Operating System      256              15.6     4.4   \n",
       "2         Windows 11 Operating System      512              15.6     4.4   \n",
       "3  64 bit Windows 11 Operating System      512              15.6     4.3   \n",
       "4                DOS Operating System      256              14.0     3.8   \n",
       "\n",
       "   no_of_ratings  no_of_reviews  \n",
       "0           14.0            1.0  \n",
       "1           53.0            3.0  \n",
       "2         4733.0          463.0  \n",
       "3        10406.0         1040.0  \n",
       "4           18.0            3.0  "
      ]
     },
     "execution_count": 364,
     "metadata": {},
     "output_type": "execute_result"
    }
   ],
   "source": [
    "#Loading the dataset\n",
    "df = pd.read_csv('laptops.csv')\n",
    "\n",
    "df.head()"
   ]
  },
  {
   "cell_type": "code",
   "execution_count": 365,
   "metadata": {},
   "outputs": [
    {
     "data": {
      "text/plain": [
       "(984, 12)"
      ]
     },
     "execution_count": 365,
     "metadata": {},
     "output_type": "execute_result"
    }
   ],
   "source": [
    "df.shape"
   ]
  },
  {
   "cell_type": "code",
   "execution_count": 366,
   "metadata": {},
   "outputs": [
    {
     "name": "stdout",
     "output_type": "stream",
     "text": [
      "<class 'pandas.core.frame.DataFrame'>\n",
      "RangeIndex: 984 entries, 0 to 983\n",
      "Data columns (total 12 columns):\n",
      " #   Column            Non-Null Count  Dtype  \n",
      "---  ------            --------------  -----  \n",
      " 0   Unnamed: 0        984 non-null    int64  \n",
      " 1   img_link          984 non-null    object \n",
      " 2   name              984 non-null    object \n",
      " 3   price(in Rs.)     984 non-null    int64  \n",
      " 4   processor         984 non-null    object \n",
      " 5   ram               984 non-null    int64  \n",
      " 6   os                984 non-null    object \n",
      " 7   storage           984 non-null    int64  \n",
      " 8   display(in inch)  984 non-null    float64\n",
      " 9   rating            688 non-null    float64\n",
      " 10  no_of_ratings     688 non-null    float64\n",
      " 11  no_of_reviews     688 non-null    float64\n",
      "dtypes: float64(4), int64(4), object(4)\n",
      "memory usage: 92.4+ KB\n"
     ]
    }
   ],
   "source": [
    "df.info()"
   ]
  },
  {
   "cell_type": "code",
   "execution_count": 367,
   "metadata": {},
   "outputs": [
    {
     "data": {
      "text/html": [
       "<div>\n",
       "<style scoped>\n",
       "    .dataframe tbody tr th:only-of-type {\n",
       "        vertical-align: middle;\n",
       "    }\n",
       "\n",
       "    .dataframe tbody tr th {\n",
       "        vertical-align: top;\n",
       "    }\n",
       "\n",
       "    .dataframe thead th {\n",
       "        text-align: right;\n",
       "    }\n",
       "</style>\n",
       "<table border=\"1\" class=\"dataframe\">\n",
       "  <thead>\n",
       "    <tr style=\"text-align: right;\">\n",
       "      <th></th>\n",
       "      <th>Unnamed: 0</th>\n",
       "      <th>price(in Rs.)</th>\n",
       "      <th>ram</th>\n",
       "      <th>storage</th>\n",
       "      <th>display(in inch)</th>\n",
       "      <th>rating</th>\n",
       "      <th>no_of_ratings</th>\n",
       "      <th>no_of_reviews</th>\n",
       "    </tr>\n",
       "  </thead>\n",
       "  <tbody>\n",
       "    <tr>\n",
       "      <th>count</th>\n",
       "      <td>984.000000</td>\n",
       "      <td>984.000000</td>\n",
       "      <td>984.000000</td>\n",
       "      <td>984.000000</td>\n",
       "      <td>984.000000</td>\n",
       "      <td>688.000000</td>\n",
       "      <td>688.000000</td>\n",
       "      <td>688.000000</td>\n",
       "    </tr>\n",
       "    <tr>\n",
       "      <th>mean</th>\n",
       "      <td>491.500000</td>\n",
       "      <td>80960.720528</td>\n",
       "      <td>11.577236</td>\n",
       "      <td>572.967480</td>\n",
       "      <td>15.148374</td>\n",
       "      <td>4.284884</td>\n",
       "      <td>718.091570</td>\n",
       "      <td>83.898256</td>\n",
       "    </tr>\n",
       "    <tr>\n",
       "      <th>std</th>\n",
       "      <td>284.200633</td>\n",
       "      <td>57421.220919</td>\n",
       "      <td>5.712698</td>\n",
       "      <td>308.607543</td>\n",
       "      <td>1.332078</td>\n",
       "      <td>0.330239</td>\n",
       "      <td>1750.817825</td>\n",
       "      <td>211.596726</td>\n",
       "    </tr>\n",
       "    <tr>\n",
       "      <th>min</th>\n",
       "      <td>0.000000</td>\n",
       "      <td>15990.000000</td>\n",
       "      <td>4.000000</td>\n",
       "      <td>128.000000</td>\n",
       "      <td>11.600000</td>\n",
       "      <td>1.600000</td>\n",
       "      <td>1.000000</td>\n",
       "      <td>0.000000</td>\n",
       "    </tr>\n",
       "    <tr>\n",
       "      <th>25%</th>\n",
       "      <td>245.750000</td>\n",
       "      <td>42655.000000</td>\n",
       "      <td>8.000000</td>\n",
       "      <td>512.000000</td>\n",
       "      <td>14.000000</td>\n",
       "      <td>4.100000</td>\n",
       "      <td>14.000000</td>\n",
       "      <td>2.000000</td>\n",
       "    </tr>\n",
       "    <tr>\n",
       "      <th>50%</th>\n",
       "      <td>491.500000</td>\n",
       "      <td>62990.000000</td>\n",
       "      <td>8.000000</td>\n",
       "      <td>512.000000</td>\n",
       "      <td>15.600000</td>\n",
       "      <td>4.300000</td>\n",
       "      <td>90.000000</td>\n",
       "      <td>11.000000</td>\n",
       "    </tr>\n",
       "    <tr>\n",
       "      <th>75%</th>\n",
       "      <td>737.250000</td>\n",
       "      <td>94990.000000</td>\n",
       "      <td>16.000000</td>\n",
       "      <td>512.000000</td>\n",
       "      <td>15.600000</td>\n",
       "      <td>4.500000</td>\n",
       "      <td>453.000000</td>\n",
       "      <td>53.500000</td>\n",
       "    </tr>\n",
       "    <tr>\n",
       "      <th>max</th>\n",
       "      <td>983.000000</td>\n",
       "      <td>419990.000000</td>\n",
       "      <td>32.000000</td>\n",
       "      <td>4000.000000</td>\n",
       "      <td>35.000000</td>\n",
       "      <td>5.000000</td>\n",
       "      <td>15492.000000</td>\n",
       "      <td>2054.000000</td>\n",
       "    </tr>\n",
       "  </tbody>\n",
       "</table>\n",
       "</div>"
      ],
      "text/plain": [
       "       Unnamed: 0  price(in Rs.)         ram      storage  display(in inch)  \\\n",
       "count  984.000000     984.000000  984.000000   984.000000        984.000000   \n",
       "mean   491.500000   80960.720528   11.577236   572.967480         15.148374   \n",
       "std    284.200633   57421.220919    5.712698   308.607543          1.332078   \n",
       "min      0.000000   15990.000000    4.000000   128.000000         11.600000   \n",
       "25%    245.750000   42655.000000    8.000000   512.000000         14.000000   \n",
       "50%    491.500000   62990.000000    8.000000   512.000000         15.600000   \n",
       "75%    737.250000   94990.000000   16.000000   512.000000         15.600000   \n",
       "max    983.000000  419990.000000   32.000000  4000.000000         35.000000   \n",
       "\n",
       "           rating  no_of_ratings  no_of_reviews  \n",
       "count  688.000000     688.000000     688.000000  \n",
       "mean     4.284884     718.091570      83.898256  \n",
       "std      0.330239    1750.817825     211.596726  \n",
       "min      1.600000       1.000000       0.000000  \n",
       "25%      4.100000      14.000000       2.000000  \n",
       "50%      4.300000      90.000000      11.000000  \n",
       "75%      4.500000     453.000000      53.500000  \n",
       "max      5.000000   15492.000000    2054.000000  "
      ]
     },
     "execution_count": 367,
     "metadata": {},
     "output_type": "execute_result"
    }
   ],
   "source": [
    "df.describe()"
   ]
  },
  {
   "cell_type": "code",
   "execution_count": 368,
   "metadata": {},
   "outputs": [],
   "source": [
    "df.drop(['os','img_link','name','processor'],axis=1,inplace=True)"
   ]
  },
  {
   "cell_type": "code",
   "execution_count": 369,
   "metadata": {},
   "outputs": [],
   "source": [
    "df.fillna(df.median(), inplace=True)"
   ]
  },
  {
   "cell_type": "code",
   "execution_count": 370,
   "metadata": {},
   "outputs": [
    {
     "data": {
      "text/plain": [
       "(984, 8)"
      ]
     },
     "execution_count": 370,
     "metadata": {},
     "output_type": "execute_result"
    }
   ],
   "source": [
    "df.isnull().sum()\n",
    "df.shape"
   ]
  },
  {
   "cell_type": "code",
   "execution_count": 371,
   "metadata": {},
   "outputs": [
    {
     "data": {
      "text/plain": [
       "Text(0.5, 1.0, 'Price data distribution')"
      ]
     },
     "execution_count": 371,
     "metadata": {},
     "output_type": "execute_result"
    },
    {
     "data": {
      "image/png": "[encoded data removed]",
      "text/plain": [
       "<Figure size 800x400 with 1 Axes>"
      ]
     },
     "metadata": {},
     "output_type": "display_data"
    }
   ],
   "source": [
    "fig=plt.figure(figsize=(8,4))\n",
    "sns.distplot(df['price(in Rs.)'])\n",
    "plt.title('Price data distribution')"
   ]
  },
  {
   "cell_type": "code",
   "execution_count": 372,
   "metadata": {},
   "outputs": [
    {
     "data": {
      "text/plain": [
       "<Axes: >"
      ]
     },
     "execution_count": 372,
     "metadata": {},
     "output_type": "execute_result"
    },
    {
     "data": {
      "image/png": "[encoded data removed]",
      "text/plain": [
       "<Figure size 1100x900 with 2 Axes>"
      ]
     },
     "metadata": {},
     "output_type": "display_data"
    }
   ],
   "source": [
    "sns.set_theme(style=\"white\")\n",
    "rs = np.random.RandomState(33)\n",
    "d = pd.DataFrame(data=rs.normal(size=(100, 8)),\n",
    "                 columns=list(df))\n",
    "corr = d.corr()\n",
    "mask = np.triu(np.ones_like(corr, dtype=bool))\n",
    "f, ax = plt.subplots(figsize=(11, 9))\n",
    "cmap = sns.diverging_palette(230, 20, as_cmap=True)\n",
    "sns.heatmap(corr, mask=mask, cmap=cmap, vmax=.3, center=0,\n",
    "            square=True, linewidths=.5, cbar_kws={\"shrink\": .5})"
   ]
  },
  {
   "cell_type": "code",
   "execution_count": 373,
   "metadata": {},
   "outputs": [
    {
     "data": {
      "text/plain": [
       "0    62990\n",
       "1    37500\n",
       "2    49990\n",
       "3    33990\n",
       "4    18990\n",
       "Name: price(in Rs.), dtype: int64"
      ]
     },
     "execution_count": 373,
     "metadata": {},
     "output_type": "execute_result"
    }
   ],
   "source": [
    "y=df['price(in Rs.)']\n",
    "y.head()"
   ]
  },
  {
   "cell_type": "markdown",
   "metadata": {},
   "source": [
    " 0   Unnamed: 0        984 non-null    int64  \n",
    " 1   img_link          984 non-null    object \n",
    " 2   name              984 non-null    object \n",
    " 3   price(in Rs.)     984 non-null    int64  \n",
    " 4   processor         984 non-null    object \n",
    " 5   ram               984 non-null    object \n",
    " 6   os                984 non-null    object \n",
    " 7   storage           984 non-null    object \n",
    " 8   display(in inch)  984 non-null    float64\n",
    " 9   rating            688 non-null    float64\n",
    " 10  no_of_ratings     688 non-null    float64\n",
    " 11  no_of_reviews     688 non-null    float64"
   ]
  },
  {
   "cell_type": "code",
   "execution_count": 374,
   "metadata": {},
   "outputs": [
    {
     "data": {
      "text/html": [
       "<div>\n",
       "<style scoped>\n",
       "    .dataframe tbody tr th:only-of-type {\n",
       "        vertical-align: middle;\n",
       "    }\n",
       "\n",
       "    .dataframe tbody tr th {\n",
       "        vertical-align: top;\n",
       "    }\n",
       "\n",
       "    .dataframe thead th {\n",
       "        text-align: right;\n",
       "    }\n",
       "</style>\n",
       "<table border=\"1\" class=\"dataframe\">\n",
       "  <thead>\n",
       "    <tr style=\"text-align: right;\">\n",
       "      <th></th>\n",
       "      <th>Unnamed: 0</th>\n",
       "      <th>ram</th>\n",
       "      <th>storage</th>\n",
       "      <th>display(in inch)</th>\n",
       "      <th>rating</th>\n",
       "      <th>no_of_ratings</th>\n",
       "      <th>no_of_reviews</th>\n",
       "    </tr>\n",
       "  </thead>\n",
       "  <tbody>\n",
       "    <tr>\n",
       "      <th>0</th>\n",
       "      <td>0</td>\n",
       "      <td>16</td>\n",
       "      <td>512</td>\n",
       "      <td>15.6</td>\n",
       "      <td>4.5</td>\n",
       "      <td>14.0</td>\n",
       "      <td>1.0</td>\n",
       "    </tr>\n",
       "    <tr>\n",
       "      <th>1</th>\n",
       "      <td>1</td>\n",
       "      <td>8</td>\n",
       "      <td>256</td>\n",
       "      <td>15.6</td>\n",
       "      <td>4.4</td>\n",
       "      <td>53.0</td>\n",
       "      <td>3.0</td>\n",
       "    </tr>\n",
       "    <tr>\n",
       "      <th>2</th>\n",
       "      <td>2</td>\n",
       "      <td>8</td>\n",
       "      <td>512</td>\n",
       "      <td>15.6</td>\n",
       "      <td>4.4</td>\n",
       "      <td>4733.0</td>\n",
       "      <td>463.0</td>\n",
       "    </tr>\n",
       "    <tr>\n",
       "      <th>3</th>\n",
       "      <td>3</td>\n",
       "      <td>8</td>\n",
       "      <td>512</td>\n",
       "      <td>15.6</td>\n",
       "      <td>4.3</td>\n",
       "      <td>10406.0</td>\n",
       "      <td>1040.0</td>\n",
       "    </tr>\n",
       "    <tr>\n",
       "      <th>4</th>\n",
       "      <td>4</td>\n",
       "      <td>4</td>\n",
       "      <td>256</td>\n",
       "      <td>14.0</td>\n",
       "      <td>3.8</td>\n",
       "      <td>18.0</td>\n",
       "      <td>3.0</td>\n",
       "    </tr>\n",
       "  </tbody>\n",
       "</table>\n",
       "</div>"
      ],
      "text/plain": [
       "   Unnamed: 0  ram  storage  display(in inch)  rating  no_of_ratings  \\\n",
       "0           0   16      512              15.6     4.5           14.0   \n",
       "1           1    8      256              15.6     4.4           53.0   \n",
       "2           2    8      512              15.6     4.4         4733.0   \n",
       "3           3    8      512              15.6     4.3        10406.0   \n",
       "4           4    4      256              14.0     3.8           18.0   \n",
       "\n",
       "   no_of_reviews  \n",
       "0            1.0  \n",
       "1            3.0  \n",
       "2          463.0  \n",
       "3         1040.0  \n",
       "4            3.0  "
      ]
     },
     "execution_count": 374,
     "metadata": {},
     "output_type": "execute_result"
    }
   ],
   "source": [
    "X=df.drop(['price(in Rs.)'],axis=1)\n",
    "X.head()"
   ]
  },
  {
   "cell_type": "code",
   "execution_count": 375,
   "metadata": {},
   "outputs": [
    {
     "data": {
      "text/html": [
       "<style>#sk-container-id-19 {color: black;}#sk-container-id-19 pre{padding: 0;}#sk-container-id-19 div.sk-toggleable {background-color: white;}#sk-container-id-19 label.sk-toggleable__label {cursor: pointer;display: block;width: 100%;margin-bottom: 0;padding: 0.3em;box-sizing: border-box;text-align: center;}#sk-container-id-19 label.sk-toggleable__label-arrow:before {content: \"▸\";float: left;margin-right: 0.25em;color: #696969;}#sk-container-id-19 label.sk-toggleable__label-arrow:hover:before {color: black;}#sk-container-id-19 div.sk-estimator:hover label.sk-toggleable__label-arrow:before {color: black;}#sk-container-id-19 div.sk-toggleable__content {max-height: 0;max-width: 0;overflow: hidden;text-align: left;background-color: #f0f8ff;}#sk-container-id-19 div.sk-toggleable__content pre {margin: 0.2em;color: black;border-radius: 0.25em;background-color: #f0f8ff;}#sk-container-id-19 input.sk-toggleable__control:checked~div.sk-toggleable__content {max-height: 200px;max-width: 100%;overflow: auto;}#sk-container-id-19 input.sk-toggleable__control:checked~label.sk-toggleable__label-arrow:before {content: \"▾\";}#sk-container-id-19 div.sk-estimator input.sk-toggleable__control:checked~label.sk-toggleable__label {background-color: #d4ebff;}#sk-container-id-19 div.sk-label input.sk-toggleable__control:checked~label.sk-toggleable__label {background-color: #d4ebff;}#sk-container-id-19 input.sk-hidden--visually {border: 0;clip: rect(1px 1px 1px 1px);clip: rect(1px, 1px, 1px, 1px);height: 1px;margin: -1px;overflow: hidden;padding: 0;position: absolute;width: 1px;}#sk-container-id-19 div.sk-estimator {font-family: monospace;background-color: #f0f8ff;border: 1px dotted black;border-radius: 0.25em;box-sizing: border-box;margin-bottom: 0.5em;}#sk-container-id-19 div.sk-estimator:hover {background-color: #d4ebff;}#sk-container-id-19 div.sk-parallel-item::after {content: \"\";width: 100%;border-bottom: 1px solid gray;flex-grow: 1;}#sk-container-id-19 div.sk-label:hover label.sk-toggleable__label {background-color: #d4ebff;}#sk-container-id-19 div.sk-serial::before {content: \"\";position: absolute;border-left: 1px solid gray;box-sizing: border-box;top: 0;bottom: 0;left: 50%;z-index: 0;}#sk-container-id-19 div.sk-serial {display: flex;flex-direction: column;align-items: center;background-color: white;padding-right: 0.2em;padding-left: 0.2em;position: relative;}#sk-container-id-19 div.sk-item {position: relative;z-index: 1;}#sk-container-id-19 div.sk-parallel {display: flex;align-items: stretch;justify-content: center;background-color: white;position: relative;}#sk-container-id-19 div.sk-item::before, #sk-container-id-19 div.sk-parallel-item::before {content: \"\";position: absolute;border-left: 1px solid gray;box-sizing: border-box;top: 0;bottom: 0;left: 50%;z-index: -1;}#sk-container-id-19 div.sk-parallel-item {display: flex;flex-direction: column;z-index: 1;position: relative;background-color: white;}#sk-container-id-19 div.sk-parallel-item:first-child::after {align-self: flex-end;width: 50%;}#sk-container-id-19 div.sk-parallel-item:last-child::after {align-self: flex-start;width: 50%;}#sk-container-id-19 div.sk-parallel-item:only-child::after {width: 0;}#sk-container-id-19 div.sk-dashed-wrapped {border: 1px dashed gray;margin: 0 0.4em 0.5em 0.4em;box-sizing: border-box;padding-bottom: 0.4em;background-color: white;}#sk-container-id-19 div.sk-label label {font-family: monospace;font-weight: bold;display: inline-block;line-height: 1.2em;}#sk-container-id-19 div.sk-label-container {text-align: center;}#sk-container-id-19 div.sk-container {/* jupyter's `normalize.less` sets `[hidden] { display: none; }` but bootstrap.min.css set `[hidden] { display: none !important; }` so we also need the `!important` here to be able to override the default hidden behavior on the sphinx rendered scikit-learn.org. See: https://github.com/scikit-learn/scikit-learn/issues/21755 */display: inline-block !important;position: relative;}#sk-container-id-19 div.sk-text-repr-fallback {display: none;}</style><div id=\"sk-container-id-19\" class=\"sk-top-container\"><div class=\"sk-text-repr-fallback\"><pre>ExtraTreesRegressor()</pre><b>In a Jupyter environment, please rerun this cell to show the HTML representation or trust the notebook. <br />On GitHub, the HTML representation is unable to render, please try loading this page with nbviewer.org.</b></div><div class=\"sk-container\" hidden><div class=\"sk-item\"><div class=\"sk-estimator sk-toggleable\"><input class=\"sk-toggleable__control sk-hidden--visually\" id=\"sk-estimator-id-19\" type=\"checkbox\" checked><label for=\"sk-estimator-id-19\" class=\"sk-toggleable__label sk-toggleable__label-arrow\">ExtraTreesRegressor</label><div class=\"sk-toggleable__content\"><pre>ExtraTreesRegressor()</pre></div></div></div></div></div>"
      ],
      "text/plain": [
       "ExtraTreesRegressor()"
      ]
     },
     "execution_count": 375,
     "metadata": {},
     "output_type": "execute_result"
    }
   ],
   "source": [
    "model=ExtraTreesRegressor()\n",
    "model.fit(X,y)"
   ]
  },
  {
   "cell_type": "code",
   "execution_count": 376,
   "metadata": {},
   "outputs": [
    {
     "name": "stdout",
     "output_type": "stream",
     "text": [
      "<class 'pandas.core.frame.DataFrame'>\n",
      "RangeIndex: 984 entries, 0 to 983\n",
      "Data columns (total 8 columns):\n",
      " #   Column            Non-Null Count  Dtype  \n",
      "---  ------            --------------  -----  \n",
      " 0   Unnamed: 0        984 non-null    int64  \n",
      " 1   price(in Rs.)     984 non-null    int64  \n",
      " 2   ram               984 non-null    int64  \n",
      " 3   storage           984 non-null    int64  \n",
      " 4   display(in inch)  984 non-null    float64\n",
      " 5   rating            984 non-null    float64\n",
      " 6   no_of_ratings     984 non-null    float64\n",
      " 7   no_of_reviews     984 non-null    float64\n",
      "dtypes: float64(4), int64(4)\n",
      "memory usage: 61.6 KB\n"
     ]
    },
    {
     "data": {
      "text/html": [
       "<div>\n",
       "<style scoped>\n",
       "    .dataframe tbody tr th:only-of-type {\n",
       "        vertical-align: middle;\n",
       "    }\n",
       "\n",
       "    .dataframe tbody tr th {\n",
       "        vertical-align: top;\n",
       "    }\n",
       "\n",
       "    .dataframe thead th {\n",
       "        text-align: right;\n",
       "    }\n",
       "</style>\n",
       "<table border=\"1\" class=\"dataframe\">\n",
       "  <thead>\n",
       "    <tr style=\"text-align: right;\">\n",
       "      <th></th>\n",
       "      <th>Unnamed: 0</th>\n",
       "      <th>price(in Rs.)</th>\n",
       "      <th>ram</th>\n",
       "      <th>storage</th>\n",
       "      <th>display(in inch)</th>\n",
       "      <th>rating</th>\n",
       "      <th>no_of_ratings</th>\n",
       "      <th>no_of_reviews</th>\n",
       "    </tr>\n",
       "  </thead>\n",
       "  <tbody>\n",
       "    <tr>\n",
       "      <th>0</th>\n",
       "      <td>0</td>\n",
       "      <td>62990</td>\n",
       "      <td>16</td>\n",
       "      <td>512</td>\n",
       "      <td>15.6</td>\n",
       "      <td>4.5</td>\n",
       "      <td>14.0</td>\n",
       "      <td>1.0</td>\n",
       "    </tr>\n",
       "    <tr>\n",
       "      <th>1</th>\n",
       "      <td>1</td>\n",
       "      <td>37500</td>\n",
       "      <td>8</td>\n",
       "      <td>256</td>\n",
       "      <td>15.6</td>\n",
       "      <td>4.4</td>\n",
       "      <td>53.0</td>\n",
       "      <td>3.0</td>\n",
       "    </tr>\n",
       "    <tr>\n",
       "      <th>2</th>\n",
       "      <td>2</td>\n",
       "      <td>49990</td>\n",
       "      <td>8</td>\n",
       "      <td>512</td>\n",
       "      <td>15.6</td>\n",
       "      <td>4.4</td>\n",
       "      <td>4733.0</td>\n",
       "      <td>463.0</td>\n",
       "    </tr>\n",
       "    <tr>\n",
       "      <th>3</th>\n",
       "      <td>3</td>\n",
       "      <td>33990</td>\n",
       "      <td>8</td>\n",
       "      <td>512</td>\n",
       "      <td>15.6</td>\n",
       "      <td>4.3</td>\n",
       "      <td>10406.0</td>\n",
       "      <td>1040.0</td>\n",
       "    </tr>\n",
       "    <tr>\n",
       "      <th>4</th>\n",
       "      <td>4</td>\n",
       "      <td>18990</td>\n",
       "      <td>4</td>\n",
       "      <td>256</td>\n",
       "      <td>14.0</td>\n",
       "      <td>3.8</td>\n",
       "      <td>18.0</td>\n",
       "      <td>3.0</td>\n",
       "    </tr>\n",
       "  </tbody>\n",
       "</table>\n",
       "</div>"
      ],
      "text/plain": [
       "   Unnamed: 0  price(in Rs.)  ram  storage  display(in inch)  rating  \\\n",
       "0           0          62990   16      512              15.6     4.5   \n",
       "1           1          37500    8      256              15.6     4.4   \n",
       "2           2          49990    8      512              15.6     4.4   \n",
       "3           3          33990    8      512              15.6     4.3   \n",
       "4           4          18990    4      256              14.0     3.8   \n",
       "\n",
       "   no_of_ratings  no_of_reviews  \n",
       "0           14.0            1.0  \n",
       "1           53.0            3.0  \n",
       "2         4733.0          463.0  \n",
       "3        10406.0         1040.0  \n",
       "4           18.0            3.0  "
      ]
     },
     "execution_count": 376,
     "metadata": {},
     "output_type": "execute_result"
    }
   ],
   "source": [
    "df.info()\n",
    "df.head()\n"
   ]
  },
  {
   "cell_type": "code",
   "execution_count": 377,
   "metadata": {},
   "outputs": [],
   "source": [
    "X_train, X_test, y_train, y_test = train_test_split(X, y, test_size=0.3, random_state=2)"
   ]
  },
  {
   "cell_type": "code",
   "execution_count": 378,
   "metadata": {},
   "outputs": [
    {
     "data": {
      "text/html": [
       "<style>#sk-container-id-20 {color: black;}#sk-container-id-20 pre{padding: 0;}#sk-container-id-20 div.sk-toggleable {background-color: white;}#sk-container-id-20 label.sk-toggleable__label {cursor: pointer;display: block;width: 100%;margin-bottom: 0;padding: 0.3em;box-sizing: border-box;text-align: center;}#sk-container-id-20 label.sk-toggleable__label-arrow:before {content: \"▸\";float: left;margin-right: 0.25em;color: #696969;}#sk-container-id-20 label.sk-toggleable__label-arrow:hover:before {color: black;}#sk-container-id-20 div.sk-estimator:hover label.sk-toggleable__label-arrow:before {color: black;}#sk-container-id-20 div.sk-toggleable__content {max-height: 0;max-width: 0;overflow: hidden;text-align: left;background-color: #f0f8ff;}#sk-container-id-20 div.sk-toggleable__content pre {margin: 0.2em;color: black;border-radius: 0.25em;background-color: #f0f8ff;}#sk-container-id-20 input.sk-toggleable__control:checked~div.sk-toggleable__content {max-height: 200px;max-width: 100%;overflow: auto;}#sk-container-id-20 input.sk-toggleable__control:checked~label.sk-toggleable__label-arrow:before {content: \"▾\";}#sk-container-id-20 div.sk-estimator input.sk-toggleable__control:checked~label.sk-toggleable__label {background-color: #d4ebff;}#sk-container-id-20 div.sk-label input.sk-toggleable__control:checked~label.sk-toggleable__label {background-color: #d4ebff;}#sk-container-id-20 input.sk-hidden--visually {border: 0;clip: rect(1px 1px 1px 1px);clip: rect(1px, 1px, 1px, 1px);height: 1px;margin: -1px;overflow: hidden;padding: 0;position: absolute;width: 1px;}#sk-container-id-20 div.sk-estimator {font-family: monospace;background-color: #f0f8ff;border: 1px dotted black;border-radius: 0.25em;box-sizing: border-box;margin-bottom: 0.5em;}#sk-container-id-20 div.sk-estimator:hover {background-color: #d4ebff;}#sk-container-id-20 div.sk-parallel-item::after {content: \"\";width: 100%;border-bottom: 1px solid gray;flex-grow: 1;}#sk-container-id-20 div.sk-label:hover label.sk-toggleable__label {background-color: #d4ebff;}#sk-container-id-20 div.sk-serial::before {content: \"\";position: absolute;border-left: 1px solid gray;box-sizing: border-box;top: 0;bottom: 0;left: 50%;z-index: 0;}#sk-container-id-20 div.sk-serial {display: flex;flex-direction: column;align-items: center;background-color: white;padding-right: 0.2em;padding-left: 0.2em;position: relative;}#sk-container-id-20 div.sk-item {position: relative;z-index: 1;}#sk-container-id-20 div.sk-parallel {display: flex;align-items: stretch;justify-content: center;background-color: white;position: relative;}#sk-container-id-20 div.sk-item::before, #sk-container-id-20 div.sk-parallel-item::before {content: \"\";position: absolute;border-left: 1px solid gray;box-sizing: border-box;top: 0;bottom: 0;left: 50%;z-index: -1;}#sk-container-id-20 div.sk-parallel-item {display: flex;flex-direction: column;z-index: 1;position: relative;background-color: white;}#sk-container-id-20 div.sk-parallel-item:first-child::after {align-self: flex-end;width: 50%;}#sk-container-id-20 div.sk-parallel-item:last-child::after {align-self: flex-start;width: 50%;}#sk-container-id-20 div.sk-parallel-item:only-child::after {width: 0;}#sk-container-id-20 div.sk-dashed-wrapped {border: 1px dashed gray;margin: 0 0.4em 0.5em 0.4em;box-sizing: border-box;padding-bottom: 0.4em;background-color: white;}#sk-container-id-20 div.sk-label label {font-family: monospace;font-weight: bold;display: inline-block;line-height: 1.2em;}#sk-container-id-20 div.sk-label-container {text-align: center;}#sk-container-id-20 div.sk-container {/* jupyter's `normalize.less` sets `[hidden] { display: none; }` but bootstrap.min.css set `[hidden] { display: none !important; }` so we also need the `!important` here to be able to override the default hidden behavior on the sphinx rendered scikit-learn.org. See: https://github.com/scikit-learn/scikit-learn/issues/21755 */display: inline-block !important;position: relative;}#sk-container-id-20 div.sk-text-repr-fallback {display: none;}</style><div id=\"sk-container-id-20\" class=\"sk-top-container\"><div class=\"sk-text-repr-fallback\"><pre>RandomForestRegressor()</pre><b>In a Jupyter environment, please rerun this cell to show the HTML representation or trust the notebook. <br />On GitHub, the HTML representation is unable to render, please try loading this page with nbviewer.org.</b></div><div class=\"sk-container\" hidden><div class=\"sk-item\"><div class=\"sk-estimator sk-toggleable\"><input class=\"sk-toggleable__control sk-hidden--visually\" id=\"sk-estimator-id-20\" type=\"checkbox\" checked><label for=\"sk-estimator-id-20\" class=\"sk-toggleable__label sk-toggleable__label-arrow\">RandomForestRegressor</label><div class=\"sk-toggleable__content\"><pre>RandomForestRegressor()</pre></div></div></div></div></div>"
      ],
      "text/plain": [
       "RandomForestRegressor()"
      ]
     },
     "execution_count": 378,
     "metadata": {},
     "output_type": "execute_result"
    }
   ],
   "source": [
    "random_forest_regressor=RandomForestRegressor()\n",
    "random_forest_regressor.fit(X_train,y_train)"
   ]
  },
  {
   "cell_type": "code",
   "execution_count": 379,
   "metadata": {},
   "outputs": [
    {
     "name": "stdout",
     "output_type": "stream",
     "text": [
      "Training Accuracy:  96.36 %\n",
      "Testing Accuracy:  73.04 %\n"
     ]
    }
   ],
   "source": [
    "train_acc=random_forest_regressor.score(X_train,y_train)\n",
    "test_acc=random_forest_regressor.score(X_test,y_test)\n",
    "print('Training Accuracy: ',round(train_acc*100, 2),'%')\n",
    "print('Testing Accuracy: ',round(test_acc*100, 2),'%')"
   ]
  },
  {
   "cell_type": "code",
   "execution_count": 380,
   "metadata": {},
   "outputs": [
    {
     "data": {
      "text/plain": [
       "array([ 64358.79,  79274.48,  37993.38, 107984.59,  69742.26,  95046.78,\n",
       "       130679.51,  41764.18,  55703.69, 137767.3 ,  53324.61, 170151.52,\n",
       "        95943.64,  66254.48,  67792.49,  23358.8 ,  45144.81,  55972.87,\n",
       "       132871.69, 228732.81, 246180.  ,  37656.59,  53020.59, 103610.91,\n",
       "        81148.98,  75754.45,  53242.12,  95285.  ,  52905.  , 230188.3 ,\n",
       "       155172.88,  36386.13,  60074.  ,  59713.  ,  56018.41,  64680.09,\n",
       "        59455.75, 115842.61,  47952.41, 101369.65,  45098.  ,  38590.08,\n",
       "        62290.  ,  55724.9 ,  64236.83, 155206.13,  56018.41, 103080.34,\n",
       "       102211.5 ,  37612.5 ,  25051.71,  70377.45,  34927.18,  91768.29,\n",
       "        35898.89,  78941.64, 109385.6 , 185916.9 ,  28101.63,  56593.1 ,\n",
       "        78019.27,  47527.28,  55874.  , 252460.63,  50986.27, 167732.76,\n",
       "        36790.2 , 102031.34,  64704.2 ,  67799.3 ,  68346.98,  49555.76,\n",
       "        58735.89,  76303.2 ,  57250.96,  42567.9 ,  81420.52,  61519.68,\n",
       "        47824.7 , 182618.69,  95886.59, 101735.  , 233405.28,  42735.66,\n",
       "        35619.41,  60862.77,  35071.08,  45345.94,  35834.77,  30409.99,\n",
       "        59425.82, 219709.2 ,  22598.81,  54584.74, 105574.02, 105848.92,\n",
       "       132671.3 ,  42193.87,  46596.75, 196640.49,  72425.3 ,  40987.04,\n",
       "        68963.24,  37287.3 ,  62814.49,  58662.38,  85580.12,  89249.39,\n",
       "       184755.2 ,  96472.56, 147700.29,  38218.3 ,  59047.44, 100702.08,\n",
       "        47317.99, 112020.77,  59177.17,  73665.13,  52530.18,  44443.73,\n",
       "        37738.8 ,  90138.69,  36628.92,  59218.64,  91971.67,  68242.85,\n",
       "        38280.1 ,  45092.51,  89419.95,  39716.  ,  39054.82,  65418.87,\n",
       "        45964.58,  63064.78,  62843.5 ,  56107.82,  32250.3 , 133916.31,\n",
       "        61244.74,  96289.74, 244920.  ,  67233.92,  60087.49,  97493.38,\n",
       "        43422.07,  56924.11, 117532.4 ,  69958.63,  68814.6 ,  45175.94,\n",
       "        41148.55,  72257.05,  57441.97,  24190.01,  39438.3 ,  40564.4 ,\n",
       "        68155.6 ,  26506.8 ,  79437.74,  38260.  ,  98945.08,  91579.35,\n",
       "        69245.73,  60735.96,  52979.  ,  79216.29,  74876.57,  55469.02,\n",
       "        39212.63,  40793.49,  42537.04,  39617.  ,  39148.22,  54666.33,\n",
       "        88483.26,  42693.49, 158861.22,  35003.8 , 292776.49,  63856.28,\n",
       "       145564.65,  53130.  ,  62254.52,  38759.79,  36646.3 ,  42044.83,\n",
       "        38895.06,  57385.08,  52957.  , 124385.27, 161585.38, 127609.68,\n",
       "        46921.  , 113085.2 ,  56089.96, 155596.54,  59303.  ,  35189.7 ,\n",
       "        64533.39,  85397.23,  48969.5 , 106646.7 ,  76518.97, 163806.58,\n",
       "        55807.1 ,  31312.3 ,  48165.61,  41323.92,  65555.51,  85258.68,\n",
       "        49931.96,  53159.96,  60158.05,  37513.9 ,  51604.18, 178907.99,\n",
       "        71731.64, 191049.88, 150874.78,  54935.38,  56952.44,  38266.23,\n",
       "        57821.  , 167786.07,  37535.5 , 103726.24,  85108.32,  87691.97,\n",
       "        69157.91,  67170.98, 235770.27,  79811.74,  57728.77,  84409.58,\n",
       "       115058.19,  86378.2 ,  45426.27,  41387.23,  45354.27,  39138.22,\n",
       "        65449.45, 137911.68,  37071.3 ,  37286.5 , 129372.7 ,  46596.75,\n",
       "        48964.12,  42896.26,  64358.79,  48882.49, 125565.45,  36466.18,\n",
       "        67684.44,  63645.1 ,  63560.84,  42959.35,  41308.37,  55169.31,\n",
       "       158318.28,  52884.67,  51221.26,  62643.72,  47401.03,  84076.51,\n",
       "        64582.69, 119422.17,  27302.52, 195501.3 , 105745.89,  63821.45,\n",
       "       233233.64,  51198.62,  89900.66, 120066.6 ,  43439.69,  62026.52,\n",
       "       178907.99,  82454.6 ,  58058.07,  36958.2 ,  64619.04,  73041.04,\n",
       "       121839.32,  28913.8 , 172626.57,  38782.4 , 157282.47, 109235.31,\n",
       "        57933.63,  91430.89, 114061.32,  79804.89, 108406.07,  59366.66,\n",
       "       166367.12,  60447.52])"
      ]
     },
     "execution_count": 380,
     "metadata": {},
     "output_type": "execute_result"
    }
   ],
   "source": [
    "predictions=random_forest_regressor.predict(X_test)\n",
    "predictions"
   ]
  },
  {
   "cell_type": "code",
   "execution_count": 381,
   "metadata": {},
   "outputs": [
    {
     "data": {
      "text/plain": [
       "<Axes: xlabel='price(in Rs.)', ylabel='Density'>"
      ]
     },
     "execution_count": 381,
     "metadata": {},
     "output_type": "execute_result"
    },
    {
     "data": {
      "image/png": "[encoded data removed]",
      "text/plain": [
       "<Figure size 640x480 with 1 Axes>"
      ]
     },
     "metadata": {},
     "output_type": "display_data"
    }
   ],
   "source": [
    "sns.distplot(y_test-predictions)"
   ]
  },
  {
   "cell_type": "code",
   "execution_count": 382,
   "metadata": {},
   "outputs": [
    {
     "data": {
      "text/plain": [
       "<matplotlib.collections.PathCollection at 0x1f29f775f10>"
      ]
     },
     "execution_count": 382,
     "metadata": {},
     "output_type": "execute_result"
    },
    {
     "data": {
      "image/png": "[encoded data removed]",
      "text/plain": [
       "<Figure size 640x480 with 1 Axes>"
      ]
     },
     "metadata": {},
     "output_type": "display_data"
    }
   ],
   "source": [
    "plt.scatter(y_test,predictions)"
   ]
  }
 ],
 "metadata": {
  "kernelspec": {
   "display_name": "Python 3",
   "language": "python",
   "name": "python3"
  },
  "language_info": {
   "codemirror_mode": {
    "name": "ipython",
    "version": 3
   },
   "file_extension": ".py",
   "mimetype": "text/x-python",
   "name": "python",
   "nbconvert_exporter": "python",
   "pygments_lexer": "ipython3",
   "version": "3.11.4"
  }
 },
 "nbformat": 4,
 "nbformat_minor": 2
}
